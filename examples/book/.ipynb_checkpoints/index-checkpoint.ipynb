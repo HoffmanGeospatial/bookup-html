{
 "cells": [
  {
   "cell_type": "raw",
   "metadata": {
    "editable": true,
    "slideshow": {
     "slide_type": ""
    },
    "tags": []
   },
   "source": [
    "---\n",
    "project:\n",
    "  type: book\n",
    "\n",
    "execute:\n",
    "  freeze: auto\n",
    "\n",
    "book:\n",
    "  title: \"Sample bookup-html book project\"\n",
    "  author: \"Jane Doe\"\n",
    "  date: today\n",
    "  downloads: [pdf, epub]\n",
    "  doi: \"10.XXX/XXX\"\n",
    "  url: https://example.com\n",
    "  repo-url: https://github.com/juba/bookup-html\n",
    "  repo-actions: edit\n",
    "  search: true\n",
    "  reader-mode: true\n",
    "  sidebar:\n",
    "    style: \"docked\"\n",
    "  chapters:\n",
    "    - index.qmd\n",
    "    - part: \"Content\"\n",
    "      chapters:\n",
    "        - sample.qmd\n",
    "        - summary.qmd\n",
    "  appendices:\n",
    "    - references.qmd\n",
    "\n",
    "bibliography: references.bib\n",
    "\n",
    "format:\n",
    "  bookup-html:\n",
    "        toc: true\n",
    "        toc-depth: 3\n",
    "---"
   ]
  },
  {
   "cell_type": "markdown",
   "metadata": {
    "editable": true,
    "slideshow": {
     "slide_type": ""
    },
    "tags": []
   },
   "source": [
    "# Introduction\n",
    "\n",
    "This is a sample quarto book project using the `bookup-html` custom [quarto](https://quarto.org) format.\n",
    "\n",
    "You can learn more on this format and how to use it in the [bookup-html Github repository](https://github.com/juba/bookup-html)."
   ]
  },
  {
   "cell_type": "code",
   "execution_count": null,
   "metadata": {
    "editable": true,
    "slideshow": {
     "slide_type": ""
    },
    "tags": []
   },
   "outputs": [],
   "source": []
  }
 ],
 "metadata": {
  "kernelspec": {
   "display_name": "Python 3 (ipykernel)",
   "language": "python",
   "name": "python3"
  },
  "language_info": {
   "codemirror_mode": {
    "name": "ipython",
    "version": 3
   },
   "file_extension": ".py",
   "mimetype": "text/x-python",
   "name": "python",
   "nbconvert_exporter": "python",
   "pygments_lexer": "ipython3",
   "version": "3.11.7"
  }
 },
 "nbformat": 4,
 "nbformat_minor": 4
}
